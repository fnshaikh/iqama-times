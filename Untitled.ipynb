{
 "cells": [
  {
   "cell_type": "code",
   "execution_count": 2,
   "metadata": {},
   "outputs": [
    {
     "name": "stdout",
     "output_type": "stream",
     "text": [
      "/Users/farazshaikh/Documents/github/iqama-times\n"
     ]
    }
   ],
   "source": [
    "%cd github/iqama-times"
   ]
  },
  {
   "cell_type": "code",
   "execution_count": 3,
   "metadata": {},
   "outputs": [
    {
     "name": "stderr",
     "output_type": "stream",
     "text": [
      "/anaconda3/lib/python3.7/site-packages/pandas/compat/_optional.py:138: UserWarning: Pandas requires version '2.7.0' or newer of 'numexpr' (version '2.6.9' currently installed).\n",
      "  warnings.warn(msg, UserWarning)\n"
     ]
    }
   ],
   "source": [
    "from iqama_times.iqama_parser import BuildIqamaSchedule"
   ]
  },
  {
   "cell_type": "code",
   "execution_count": 4,
   "metadata": {},
   "outputs": [],
   "source": [
    "usr_input =  {\n",
    "            \"address\": \"12622 Springbrook Drive Unit D, San Diego, CA\", \n",
    "            \"year\": 2023,\n",
    "            \"fajr_delay\": 15,\n",
    "            \"asr_delay\": 15, \n",
    "            \"dhuhr_time\": \"1:30\",\n",
    "            \"maghrib_delay\": 10, \n",
    "            \"isha_delay\": 10, \n",
    "            \"maghrib_ramzan_delay\": 15, \n",
    "            \"method\":2,\n",
    "            \"min_fajar_time\":\"5:00\",\n",
    "            \"max_isha_time\":\"9:30\",\n",
    "            \"ramzan_start\": None, \n",
    "            \"ramzan_end\": None,\n",
    "        }\n",
    "\n",
    "\n",
    "b= BuildIqamaSchedule(**usr_input)\n",
    "\n"
   ]
  },
  {
   "cell_type": "code",
   "execution_count": 5,
   "metadata": {},
   "outputs": [],
   "source": [
    "resp = b.get_adhan_times().json()\n"
   ]
  },
  {
   "cell_type": "code",
   "execution_count": 171,
   "metadata": {},
   "outputs": [],
   "source": [
    "df = b.build_adhan_df(resp)"
   ]
  },
  {
   "cell_type": "code",
   "execution_count": 7,
   "metadata": {},
   "outputs": [],
   "source": [
    "fajr = b.update_fajr(df[\"Fajr\"])"
   ]
  },
  {
   "cell_type": "code",
   "execution_count": 19,
   "metadata": {},
   "outputs": [],
   "source": [
    "fajr.to_csv(\"test.csv\")"
   ]
  },
  {
   "cell_type": "code",
   "execution_count": 9,
   "metadata": {},
   "outputs": [],
   "source": [
    "dahur = b.update_dhuhr(df[\"Dhuhr\"])"
   ]
  },
  {
   "cell_type": "code",
   "execution_count": 172,
   "metadata": {},
   "outputs": [],
   "source": [
    "import pandas as pd \n",
    "def update_dhuhr( dhuhr: pd.Series) -> pd.Series:\n",
    "    time_split = BuildIqamaSchedule.parse_date_time(\"1:30\")\n",
    "    hour = int(time_split[0])\n",
    "    minute = int(time_split[1])\n",
    "    dhuhr= dhuhr.apply(lambda x: x.replace(hour=hour, minute=minute))\n",
    "    dhuhr = pd.to_datetime(dhuhr, format=\"%H:%M\").dt.time\n",
    "    return dhuhr\n"
   ]
  },
  {
   "cell_type": "code",
   "execution_count": 17,
   "metadata": {},
   "outputs": [],
   "source": [
    "dahur = update_dhuhr(df[\"Dhuhr\"])"
   ]
  },
  {
   "cell_type": "code",
   "execution_count": 173,
   "metadata": {},
   "outputs": [],
   "source": [
    "maghrib_ramzan_delay = 10\n",
    "ramzan_start = \"2023-01-01\"\n",
    "ramzan_end = \"2023-01-31\"\n",
    "def update_maghrib(maghrib: pd.Series) -> pd.Series:\n",
    "    mask = (maghrib > ramzan_start) & (maghrib <= ramzan_end)\n",
    "    maghrib.loc[mask] = maghrib.loc[mask] + pd.Timedelta(minutes=15)\n",
    "    maghrib.loc[~mask] = maghrib.loc[~mask] + pd.Timedelta(minutes=10)\n",
    "    maghrib = pd.to_datetime(maghrib, format=\"%H:%M\").dt.time\n",
    "    return maghrib"
   ]
  },
  {
   "cell_type": "code",
   "execution_count": 175,
   "metadata": {},
   "outputs": [
    {
     "data": {
      "text/plain": [
       "0     17:08:00\n",
       "1     17:09:00\n",
       "2     17:09:00\n",
       "3     17:10:00\n",
       "4     17:11:00\n",
       "        ...   \n",
       "26    16:59:00\n",
       "27    17:00:00\n",
       "28    17:01:00\n",
       "29    17:01:00\n",
       "30    17:02:00\n",
       "Name: Maghrib, Length: 365, dtype: object"
      ]
     },
     "execution_count": 175,
     "metadata": {},
     "output_type": "execute_result"
    }
   ],
   "source": [
    "maghrib = update_maghrib(df[\"Maghrib\"])\n",
    "maghrib"
   ]
  },
  {
   "cell_type": "code",
   "execution_count": 170,
   "metadata": {},
   "outputs": [],
   "source": [
    "date_string = df[\"Maghrib\"].dt.date.astype(str)\n",
    "regular_mask = (date_string >= ramzan_start) & (date_string<= ramzan_end)"
   ]
  },
  {
   "cell_type": "code",
   "execution_count": 174,
   "metadata": {},
   "outputs": [
    {
     "data": {
      "text/plain": [
       "0    2023-01-01 16:53:00-08:00\n",
       "1    2023-01-02 16:54:00-08:00\n",
       "2    2023-01-03 16:54:00-08:00\n",
       "3    2023-01-04 16:55:00-08:00\n",
       "4    2023-01-05 16:56:00-08:00\n",
       "                ...           \n",
       "26   2023-12-27 16:49:00-08:00\n",
       "27   2023-12-28 16:50:00-08:00\n",
       "28   2023-12-29 16:51:00-08:00\n",
       "29   2023-12-30 16:51:00-08:00\n",
       "30   2023-12-31 16:52:00-08:00\n",
       "Name: Maghrib, Length: 365, dtype: datetime64[ns, tzlocal()]"
      ]
     },
     "execution_count": 174,
     "metadata": {},
     "output_type": "execute_result"
    }
   ],
   "source": [
    "df[\"Maghrib\"]"
   ]
  },
  {
   "cell_type": "code",
   "execution_count": 164,
   "metadata": {},
   "outputs": [
    {
     "data": {
      "text/plain": [
       "0    2023-02-01 17:21:00-08:00\n",
       "1    2023-02-02 17:22:00-08:00\n",
       "2    2023-02-03 17:23:00-08:00\n",
       "3    2023-02-04 17:24:00-08:00\n",
       "4    2023-02-05 17:24:00-08:00\n",
       "                ...           \n",
       "26   2023-12-27 16:49:00-08:00\n",
       "27   2023-12-28 16:50:00-08:00\n",
       "28   2023-12-29 16:51:00-08:00\n",
       "29   2023-12-30 16:51:00-08:00\n",
       "30   2023-12-31 16:52:00-08:00\n",
       "Name: Maghrib, Length: 334, dtype: datetime64[ns, tzlocal()]"
      ]
     },
     "execution_count": 164,
     "metadata": {},
     "output_type": "execute_result"
    }
   ],
   "source": []
  },
  {
   "cell_type": "code",
   "execution_count": 132,
   "metadata": {},
   "outputs": [
    {
     "data": {
      "text/plain": [
       "0    2023-01-01 17:23:00-08:00\n",
       "1    2023-01-02 17:24:00-08:00\n",
       "2    2023-01-03 17:24:00-08:00\n",
       "3    2023-01-04 17:25:00-08:00\n",
       "4    2023-01-05 17:26:00-08:00\n",
       "                ...           \n",
       "26   2023-12-27 16:49:00-08:00\n",
       "27   2023-12-28 16:50:00-08:00\n",
       "28   2023-12-29 16:51:00-08:00\n",
       "29   2023-12-30 16:51:00-08:00\n",
       "30   2023-12-31 16:52:00-08:00\n",
       "Name: Maghrib, Length: 365, dtype: datetime64[ns, tzlocal()]"
      ]
     },
     "execution_count": 132,
     "metadata": {},
     "output_type": "execute_result"
    }
   ],
   "source": [
    "df[\"Maghrib\"]"
   ]
  },
  {
   "cell_type": "code",
   "execution_count": 108,
   "metadata": {},
   "outputs": [],
   "source": [
    "maghrib = update_maghrib(df[\"Maghrib\"])"
   ]
  },
  {
   "cell_type": "code",
   "execution_count": 109,
   "metadata": {},
   "outputs": [
    {
     "data": {
      "text/plain": [
       "0     17:23:00\n",
       "1     17:24:00\n",
       "2     17:24:00\n",
       "3     17:25:00\n",
       "4     17:26:00\n",
       "        ...   \n",
       "26    16:49:00\n",
       "27    16:50:00\n",
       "28    16:51:00\n",
       "29    16:51:00\n",
       "30    16:52:00\n",
       "Name: Maghrib, Length: 365, dtype: object"
      ]
     },
     "execution_count": 109,
     "metadata": {},
     "output_type": "execute_result"
    }
   ],
   "source": [
    "maghrib"
   ]
  },
  {
   "cell_type": "code",
   "execution_count": 49,
   "metadata": {},
   "outputs": [],
   "source": [
    "import datetime"
   ]
  },
  {
   "cell_type": "code",
   "execution_count": 50,
   "metadata": {},
   "outputs": [
    {
     "data": {
      "text/plain": [
       "datetime64[ns, tzlocal()]"
      ]
     },
     "execution_count": 50,
     "metadata": {},
     "output_type": "execute_result"
    }
   ],
   "source": [
    "df[\"Maghrib\"].dtypes"
   ]
  },
  {
   "cell_type": "code",
   "execution_count": 61,
   "metadata": {},
   "outputs": [],
   "source": [
    "start_date = '2023-11-15'\n",
    "end_date = '2023-11-18'\n",
    "# Select DataFrame rows between two dates\n",
    "mask = (df[\"Maghrib\"] > start_date) & (df[\"Maghrib\"] <= end_date)\n",
    "df2 = df.loc[mask]"
   ]
  },
  {
   "cell_type": "code",
   "execution_count": 62,
   "metadata": {},
   "outputs": [
    {
     "data": {
      "text/html": [
       "<div>\n",
       "<style scoped>\n",
       "    .dataframe tbody tr th:only-of-type {\n",
       "        vertical-align: middle;\n",
       "    }\n",
       "\n",
       "    .dataframe tbody tr th {\n",
       "        vertical-align: top;\n",
       "    }\n",
       "\n",
       "    .dataframe thead th {\n",
       "        text-align: right;\n",
       "    }\n",
       "</style>\n",
       "<table border=\"1\" class=\"dataframe\">\n",
       "  <thead>\n",
       "    <tr style=\"text-align: right;\">\n",
       "      <th></th>\n",
       "      <th>Date</th>\n",
       "      <th>Fajr</th>\n",
       "      <th>Dhuhr</th>\n",
       "      <th>Asr</th>\n",
       "      <th>Maghrib</th>\n",
       "      <th>Isha</th>\n",
       "      <th>date.gregorian.date</th>\n",
       "    </tr>\n",
       "  </thead>\n",
       "  <tbody>\n",
       "    <tr>\n",
       "      <th>14</th>\n",
       "      <td>15 Nov 2023</td>\n",
       "      <td>2023-11-15 05:08:00-08:00</td>\n",
       "      <td>2023-11-15 11:33:00-08:00</td>\n",
       "      <td>2023-11-15 14:28:00-08:00</td>\n",
       "      <td>2023-11-15 16:47:00-08:00</td>\n",
       "      <td>2023-11-15 17:58:00-08:00</td>\n",
       "      <td>15-11-2023</td>\n",
       "    </tr>\n",
       "    <tr>\n",
       "      <th>15</th>\n",
       "      <td>16 Nov 2023</td>\n",
       "      <td>2023-11-16 05:09:00-08:00</td>\n",
       "      <td>2023-11-16 11:33:00-08:00</td>\n",
       "      <td>2023-11-16 14:28:00-08:00</td>\n",
       "      <td>2023-11-16 16:46:00-08:00</td>\n",
       "      <td>2023-11-16 17:57:00-08:00</td>\n",
       "      <td>16-11-2023</td>\n",
       "    </tr>\n",
       "    <tr>\n",
       "      <th>16</th>\n",
       "      <td>17 Nov 2023</td>\n",
       "      <td>2023-11-17 05:10:00-08:00</td>\n",
       "      <td>2023-11-17 11:33:00-08:00</td>\n",
       "      <td>2023-11-17 14:27:00-08:00</td>\n",
       "      <td>2023-11-17 16:46:00-08:00</td>\n",
       "      <td>2023-11-17 17:57:00-08:00</td>\n",
       "      <td>17-11-2023</td>\n",
       "    </tr>\n",
       "  </tbody>\n",
       "</table>\n",
       "</div>"
      ],
      "text/plain": [
       "           Date                      Fajr                     Dhuhr  \\\n",
       "14  15 Nov 2023 2023-11-15 05:08:00-08:00 2023-11-15 11:33:00-08:00   \n",
       "15  16 Nov 2023 2023-11-16 05:09:00-08:00 2023-11-16 11:33:00-08:00   \n",
       "16  17 Nov 2023 2023-11-17 05:10:00-08:00 2023-11-17 11:33:00-08:00   \n",
       "\n",
       "                         Asr                   Maghrib  \\\n",
       "14 2023-11-15 14:28:00-08:00 2023-11-15 16:47:00-08:00   \n",
       "15 2023-11-16 14:28:00-08:00 2023-11-16 16:46:00-08:00   \n",
       "16 2023-11-17 14:27:00-08:00 2023-11-17 16:46:00-08:00   \n",
       "\n",
       "                        Isha date.gregorian.date  \n",
       "14 2023-11-15 17:58:00-08:00          15-11-2023  \n",
       "15 2023-11-16 17:57:00-08:00          16-11-2023  \n",
       "16 2023-11-17 17:57:00-08:00          17-11-2023  "
      ]
     },
     "execution_count": 62,
     "metadata": {},
     "output_type": "execute_result"
    }
   ],
   "source": [
    "df2"
   ]
  },
  {
   "cell_type": "code",
   "execution_count": 67,
   "metadata": {},
   "outputs": [
    {
     "data": {
      "text/plain": [
       "14   2023-11-15 16:57:00-08:00\n",
       "15   2023-11-16 16:56:00-08:00\n",
       "16   2023-11-17 16:56:00-08:00\n",
       "Name: Maghrib, dtype: datetime64[ns, tzlocal()]"
      ]
     },
     "execution_count": 67,
     "metadata": {},
     "output_type": "execute_result"
    }
   ],
   "source": [
    "df2[\"Maghrib\"].loc[(df2[\"Maghrib\"] > start_date) & (df2[\"Maghrib\"] <= end_date)] + pd.Timedelta(minutes=10)\n"
   ]
  },
  {
   "cell_type": "code",
   "execution_count": null,
   "metadata": {},
   "outputs": [],
   "source": []
  }
 ],
 "metadata": {
  "kernelspec": {
   "display_name": "Python 3",
   "language": "python",
   "name": "python3"
  },
  "language_info": {
   "codemirror_mode": {
    "name": "ipython",
    "version": 3
   },
   "file_extension": ".py",
   "mimetype": "text/x-python",
   "name": "python",
   "nbconvert_exporter": "python",
   "pygments_lexer": "ipython3",
   "version": "3.7.3"
  }
 },
 "nbformat": 4,
 "nbformat_minor": 2
}
